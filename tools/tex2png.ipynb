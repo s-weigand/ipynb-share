{
 "cells": [
  {
   "cell_type": "code",
   "execution_count": 7,
   "metadata": {},
   "outputs": [],
   "source": [
    "import os\n",
    "import tempfile\n",
    "import matplotlib.pyplot as plt\n",
    "from PIL import Image, ImageChops\n",
    "plt.rc('text', usetex=True)\n",
    "\n",
    "\n",
    "def trim(im):\n",
    "    bg = Image.new(im.mode, im.size, im.getpixel((0,0)))\n",
    "    diff = ImageChops.difference(im, bg)\n",
    "    diff = ImageChops.add(diff, diff, 2.0, -100)\n",
    "    bbox = diff.getbbox()\n",
    "    if bbox:\n",
    "        return im.crop(bbox)\n",
    "    \n",
    "\n",
    "def tex2png(tex_expression, filename, font_size=20, dpi=300):\n",
    "    fig, ax = plt.subplots()\n",
    "    ax.text(0, 0, tex_expression, size=font_size)\n",
    "    ax.axis('off')\n",
    "    temp_file = tempfile.TemporaryFile()\n",
    "    temp_file.close()\n",
    "    fig.savefig(temp_file.name, dpi=dpi, transparent=True, format=\"png\", \n",
    "                bbox_inches='tight', pad_inches=0.0)\n",
    "    plt.close()\n",
    "    bg = Image.open(temp_file.name)\n",
    "    croped_im = trim(bg)\n",
    "    croped_im.save(filename, format=\"png\")\n",
    "    os.remove(temp_file.name)\n",
    "    return croped_im\n",
    "    "
   ]
  },
  {
   "cell_type": "code",
   "execution_count": 8,
   "metadata": {},
   "outputs": [
    {
     "data": {
      "image/png": "[encoded data removed]",
      "text/plain": [
       "<PIL.Image.Image image mode=RGBA size=254x101 at 0x19EEA5C08D0>"
      ]
     },
     "execution_count": 8,
     "metadata": {},
     "output_type": "execute_result"
    }
   ],
   "source": [
    "tex2png(r\"$\\int_{0}^{\\infty} a dx$\", \"new_test.png\")"
   ]
  },
  {
   "cell_type": "code",
   "execution_count": null,
   "metadata": {},
   "outputs": [],
   "source": []
  }
 ],
 "metadata": {
  "kernelspec": {
   "display_name": "Python 3",
   "language": "python",
   "name": "python3"
  },
  "language_info": {
   "codemirror_mode": {
    "name": "ipython",
    "version": 3
   },
   "file_extension": ".py",
   "mimetype": "text/x-python",
   "name": "python",
   "nbconvert_exporter": "python",
   "pygments_lexer": "ipython3",
   "version": "3.6.5"
  }
 },
 "nbformat": 4,
 "nbformat_minor": 2
}
