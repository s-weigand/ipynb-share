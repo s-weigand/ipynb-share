{
 "cells": [
  {
   "cell_type": "code",
   "execution_count": 1,
   "metadata": {},
   "outputs": [],
   "source": [
    "%matplotlib inline"
   ]
  },
  {
   "cell_type": "code",
   "execution_count": 2,
   "metadata": {},
   "outputs": [],
   "source": [
    "import sympy as sym\n",
    "sym.init_printing()"
   ]
  },
  {
   "cell_type": "markdown",
   "metadata": {},
   "source": [
    "initial differential equation\n",
    "\n",
    "$y'''-6y''+12y'-8y=0 \\iff y'''=6y''-12y'+8y$\n",
    "\n",
    "\n",
    "spliting for odeint\n",
    "\n",
    "$y' = u$\n",
    "\n",
    "$u' = v~~~$ `u' = y''`\n",
    "\n",
    "$v' = 6v - 12u -8y$ `v' = y'''`\n"
   ]
  },
  {
   "cell_type": "code",
   "execution_count": 3,
   "metadata": {},
   "outputs": [],
   "source": [
    "x = sym.symbols(\"x\")\n",
    "y = sym.Function(\"y\")(x)\n",
    "u = sym.Function(\"u\")(x)\n",
    "v = sym.Function(\"v\")(x)\n",
    "\n",
    "dydx = u\n",
    "dudx = v\n",
    "dvdx = 6*v-12*u+8*y"
   ]
  },
  {
   "cell_type": "code",
   "execution_count": 4,
   "metadata": {},
   "outputs": [
    {
     "data": {
      "image/png": "[encoded data removed]",
      "text/latex": [
       "$$x^{3} - 6 x^{2} + 12 x - 8$$"
      ],
      "text/plain": [
       " 3      2           \n",
       "x  - 6⋅x  + 12⋅x - 8"
      ]
     },
     "execution_count": 4,
     "metadata": {},
     "output_type": "execute_result"
    }
   ],
   "source": [
    "sym.expand((x-2)**3)"
   ]
  },
  {
   "cell_type": "code",
   "execution_count": 5,
   "metadata": {},
   "outputs": [
    {
     "data": {
      "image/png": "[encoded data removed]",
      "text/latex": [
       "$$8 y{\\left (x \\right )} - 12 \\frac{d}{d x} y{\\left (x \\right )} + 6 \\frac{d^{2}}{d x^{2}} y{\\left (x \\right )}$$"
      ],
      "text/plain": [
       "                           2      \n",
       "            d             d       \n",
       "8⋅y(x) - 12⋅──(y(x)) + 6⋅───(y(x))\n",
       "            dx             2      \n",
       "                         dx       "
      ]
     },
     "execution_count": 5,
     "metadata": {},
     "output_type": "execute_result"
    }
   ],
   "source": [
    "d3ydx3 = dvdx.subs(v, u.diff(x)).subs(u, y.diff(x))\n",
    "d3ydx3"
   ]
  },
  {
   "cell_type": "code",
   "execution_count": 6,
   "metadata": {},
   "outputs": [
    {
     "data": {
      "image/png": "[encoded data removed]",
      "text/latex": [
       "$$- 12 u{\\left (x \\right )} + 6 v{\\left (x \\right )} + 8 y{\\left (x \\right )}$$"
      ],
      "text/plain": [
       "-12⋅u(x) + 6⋅v(x) + 8⋅y(x)"
      ]
     },
     "execution_count": 6,
     "metadata": {},
     "output_type": "execute_result"
    }
   ],
   "source": [
    "d3ydx3.subs(y.diff(x,2), v).subs(y.diff(x), u)"
   ]
  },
  {
   "cell_type": "code",
   "execution_count": 7,
   "metadata": {},
   "outputs": [
    {
     "data": {
      "image/png": "[encoded data removed]",
      "text/latex": [
       "$$- 8 y{\\left (x \\right )} + 12 \\frac{d}{d x} y{\\left (x \\right )} - 6 \\frac{d^{2}}{d x^{2}} y{\\left (x \\right )} + \\frac{d^{3}}{d x^{3}} y{\\left (x \\right )} = 0$$"
      ],
      "text/plain": [
       "                            2           3          \n",
       "             d             d           d           \n",
       "-8⋅y(x) + 12⋅──(y(x)) - 6⋅───(y(x)) + ───(y(x)) = 0\n",
       "             dx             2           3          \n",
       "                          dx          dx           "
      ]
     },
     "execution_count": 7,
     "metadata": {},
     "output_type": "execute_result"
    }
   ],
   "source": [
    "diffeq = sym.Eq(y.diff(x, 3)- d3ydx3,0)\n",
    "diffeq"
   ]
  },
  {
   "cell_type": "code",
   "execution_count": 8,
   "metadata": {},
   "outputs": [
    {
     "data": {
      "image/png": "[encoded data removed]",
      "text/latex": [
       "$$y{\\left (x \\right )} = \\left(C_{1} + C_{2} x + C_{3} x^{2}\\right) e^{2 x}$$"
      ],
      "text/plain": [
       "       ⎛                2⎞  2⋅x\n",
       "y(x) = ⎝C₁ + C₂⋅x + C₃⋅x ⎠⋅ℯ   "
      ]
     },
     "execution_count": 8,
     "metadata": {},
     "output_type": "execute_result"
    }
   ],
   "source": [
    "sym.dsolve(diffeq, y)"
   ]
  },
  {
   "cell_type": "markdown",
   "metadata": {},
   "source": [
    "### Free fall with newtownian friction\n",
    "\n",
    "$m \\dot{v} = -mg + kv^2 \\iff \\dot{v} = -g + \\dfrac{kv^2}{m} $\n"
   ]
  },
  {
   "cell_type": "code",
   "execution_count": 9,
   "metadata": {},
   "outputs": [
    {
     "data": {
      "text/plain": [
       "Text(0,0.5,'abs(v)')"
      ]
     },
     "execution_count": 9,
     "metadata": {},
     "output_type": "execute_result"
    },
    {
     "data": {
      "image/png": "[encoded data removed]",
      "text/plain": [
       "<Figure size 432x288 with 1 Axes>"
      ]
     },
     "metadata": {
      "needs_background": "light"
     },
     "output_type": "display_data"
    }
   ],
   "source": [
    "import numpy as np\n",
    "from scipy.integrate import odeint\n",
    "import matplotlib.pyplot as plt\n",
    "\n",
    "\n",
    "g = 9.8\n",
    "k0 = 1\n",
    "m0 = 2\n",
    "\n",
    "def free_fall_v(v, t, g, k, m):\n",
    "    dvdt = -g + (k*v**2)/m\n",
    "    return dvdt\n",
    "\n",
    "t = np.linspace(0,2)\n",
    "v0 = 0\n",
    "\n",
    "res = odeint(free_fall_v, v0, t, args=(g,k0,m0))\n",
    "plt.plot(t, np.abs(res))\n",
    "plt.xlabel(\"t(s)\")\n",
    "plt.ylabel(\"abs(v)\")\n",
    "    "
   ]
  },
  {
   "cell_type": "markdown",
   "metadata": {},
   "source": [
    "### Damped harmonic oscillator\n",
    "$ \\ddot{x} + 2\\gamma\\dot{x}+ \\omega_{0}^2 x = 0 \\iff \\ddot{x} = - 2\\gamma\\dot{x}- \\omega_{0}^2 x$\n",
    "\n",
    "seperate the ode 2nd order in 2 ode's 1st order\n",
    "\n",
    "$\\dot{x} = u$\n",
    "\n",
    "$\\dot{u} = -2\\gamma{u} - \\omega_{0}^2 x$\n"
   ]
  },
  {
   "cell_type": "code",
   "execution_count": 10,
   "metadata": {},
   "outputs": [
    {
     "data": {
      "text/plain": [
       "Text(0,0.5,'Amplitude')"
      ]
     },
     "execution_count": 10,
     "metadata": {},
     "output_type": "execute_result"
    },
    {
     "data": {
      "image/png": "[encoded data removed]",
      "text/plain": [
       "<Figure size 432x288 with 1 Axes>"
      ]
     },
     "metadata": {
      "needs_background": "light"
     },
     "output_type": "display_data"
    }
   ],
   "source": [
    "def damped_oszi(X, t, gamma, omega):\n",
    "#     x = X[0], u = X[1] \n",
    "    u = X[1]\n",
    "    u_dot =  -2*gamma*u - X[0]*omega**2\n",
    "    return [u, u_dot]\n",
    "\n",
    "t = np.linspace(0,30, 1000)\n",
    "X0 = x0, x_dot_0 = [10, 0]\n",
    "\n",
    "gamma0, omega0 = 0.2, 3\n",
    "\n",
    "res = odeint(damped_oszi, X0, t, args=(gamma0, omega0))\n",
    "plt.plot(t, res.T[0])\n",
    "plt.xlabel(\"t(s)\")\n",
    "plt.ylabel(\"Amplitude\")\n",
    "    "
   ]
  },
  {
   "cell_type": "code",
   "execution_count": null,
   "metadata": {},
   "outputs": [],
   "source": []
  }
 ],
 "metadata": {
  "kernelspec": {
   "display_name": "Python 3",
   "language": "python",
   "name": "python3"
  },
  "language_info": {
   "codemirror_mode": {
    "name": "ipython",
    "version": 3
   },
   "file_extension": ".py",
   "mimetype": "text/x-python",
   "name": "python",
   "nbconvert_exporter": "python",
   "pygments_lexer": "ipython3",
   "version": "3.6.6"
  }
 },
 "nbformat": 4,
 "nbformat_minor": 2
}
