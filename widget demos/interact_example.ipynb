{
 "cells": [
  {
   "cell_type": "markdown",
   "metadata": {},
   "source": [
    "### Using ipywidgets in Jupyter Lab\n",
    "To use `ipywidgets` in jupyterlab you need to install [jupyterlab-manager](https://github.com/jupyter-widgets/ipywidgets/tree/master/packages/jupyterlab-manager)\n",
    "\n",
    "Please note that you need the apropriate version for your version of jupyterlab, which can be found out by running ``jupyter lab --version``.\n",
    "The version of jupyterlab-manager which is than needed can found in the guide [here](https://github.com/jupyter-widgets/ipywidgets/tree/master/packages/jupyterlab-manager)\n",
    "\n",
    "i.e.: for jupyterlab 0.32.1 the version of jupyterlab-manager is 0.35 an be installed by:\n",
    "\n",
    "``jupyter labextension install @jupyter-widgets/jupyterlab-manager@0.35``\n",
    "\n",
    "Special note for Windows users you need the the LTS wersion of [node.js](https://nodejs.org/en/) installed, it won't work with newer versions.\n",
    "\n",
    "``jupyterlab 0.32.1`` needs ``ipywidgets==7.2.1`` [see](https://github.com/jupyter-widgets/ipywidgets/issues/2141)\n",
    "\n",
    "If you use ipywidgets>=7.2.1, downgrade it with:\n",
    "\n",
    "``conda install -c conda-forge ipywidgets=7.2.1``\n",
    "\n",
    "If you want more examples on how to use ipywidgets visit the [docs of ipywidgets](https://ipywidgets.readthedocs.io/en/latest/examples/Using%20Interact.html)"
   ]
  },
  {
   "cell_type": "code",
   "execution_count": null,
   "metadata": {},
   "outputs": [],
   "source": [
    "%matplotlib inline\n",
    "from __future__ import unicode_literals\n",
    "import matplotlib.pyplot as plt\n",
    "from ipywidgets import interact\n",
    "import numpy as np"
   ]
  },
  {
   "cell_type": "code",
   "execution_count": null,
   "metadata": {},
   "outputs": [],
   "source": [
    "def plot_sin(omega=1.0, lambda_=0.1):\n",
    "    t = np.linspace(0, 50, num=200)\n",
    "    plt.plot(t, np.sin(omega*t)*np.exp(-lambda_*t))\n",
    "    # support non ascii characters\n",
    "    plt.rc('font', family='Arial')\n",
    "    plt.title(\"sin(ω t) exp(-λ t) with ω={} and λ={}\" \\\n",
    "              \"\".format(omega, lambda_))\n",
    "    plt.ylim(-1.1, 1.1)\n",
    "    plt.xlabel(\"t\")\n",
    "    plt.ylabel(\"y\")\n",
    "\n",
    "    \n",
    "def square(x=1):\n",
    "    return x**2\n",
    "\n",
    "\n",
    "def do_you_get_it(got_it):\n",
    "    if got_it:\n",
    "        print(\"Gz you lil smart cookie!\")\n",
    "    else:\n",
    "        print(\"Comeon you can do it!\")\n",
    "        \n",
    "def print_hello_name(name):\n",
    "    print(\"Hello {}\".format(name))"
   ]
  },
  {
   "cell_type": "code",
   "execution_count": null,
   "metadata": {},
   "outputs": [],
   "source": [
    "interact(plot_sin, omega=(0.0, 10.0, 0.1), \n",
    "         lambda_=(0.0, 0.5, 0.01))"
   ]
  },
  {
   "cell_type": "code",
   "execution_count": null,
   "metadata": {},
   "outputs": [],
   "source": [
    "interact(square, x=(1,100))"
   ]
  },
  {
   "cell_type": "code",
   "execution_count": null,
   "metadata": {},
   "outputs": [],
   "source": [
    "interact(do_you_get_it, got_it=False)"
   ]
  },
  {
   "cell_type": "code",
   "execution_count": null,
   "metadata": {},
   "outputs": [],
   "source": [
    "interact(print_hello_name, name=\"put your name\")"
   ]
  },
  {
   "cell_type": "code",
   "execution_count": null,
   "metadata": {},
   "outputs": [],
   "source": []
  }
 ],
 "metadata": {
  "kernelspec": {
   "display_name": "Python 3",
   "language": "python",
   "name": "python3"
  },
  "language_info": {
   "codemirror_mode": {
    "name": "ipython",
    "version": 3
   },
   "file_extension": ".py",
   "mimetype": "text/x-python",
   "name": "python",
   "nbconvert_exporter": "python",
   "pygments_lexer": "ipython3",
   "version": "3.6.5"
  }
 },
 "nbformat": 4,
 "nbformat_minor": 2
}
