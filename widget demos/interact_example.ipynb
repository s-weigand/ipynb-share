{
 "cells": [
  {
   "cell_type": "markdown",
   "metadata": {},
   "source": [
    "### Using ipywidgets in Jupyter Lab\n",
    "To use `ipywidgets` in jupyterlab you need to install [jupyterlab-manager](https://github.com/jupyter-widgets/ipywidgets/tree/master/packages/jupyterlab-manager)\n",
    "\n",
    "Please note that you need the apropriate version for your version of jupyterlab, which can be found out by running ``jupyter lab --version``.\n",
    "The version of jupyterlab-manager which is than needed can found in the guide [here](https://github.com/jupyter-widgets/ipywidgets/tree/master/packages/jupyterlab-manager)\n",
    "\n",
    "i.e.: for jupyterlab 0.32.1 the version of jupyterlab-manager is 0.35 an be installed by:\n",
    "\n",
    "``jupyter labextension install @jupyter-widgets/jupyterlab-manager@0.35``\n",
    "\n",
    "Special note for Windows users you need the the LTS wersion of [node.js](https://nodejs.org/en/) installed, it won't work with newer versions.\n",
    "\n",
    "``jupyterlab 0.32.1`` needs ``ipywidgets==7.2.1`` [see](https://github.com/jupyter-widgets/ipywidgets/issues/2141)\n",
    "\n",
    "If you use ipywidgets>=7.2.1, downgrade it with:\n",
    "\n",
    "``conda install -c conda-forge ipywidgets=7.2.1``\n",
    "\n",
    "If you want more examples on how to use ipywidgets visit the [docs of ipywidgets](https://ipywidgets.readthedocs.io/en/latest/examples/Using%20Interact.html)"
   ]
  },
  {
   "cell_type": "code",
   "execution_count": 1,
   "metadata": {},
   "outputs": [],
   "source": [
    "from __future__ import unicode_literals\n",
    "%matplotlib inline\n",
    "import matplotlib.pyplot as plt\n",
    "from ipywidgets import interact\n",
    "import numpy as np"
   ]
  },
  {
   "cell_type": "code",
   "execution_count": 2,
   "metadata": {},
   "outputs": [],
   "source": [
    "def plot_sin(omega=1.0, lambda_=0.1):\n",
    "    t = np.linspace(0, 50, num=200)\n",
    "    plt.plot(t, np.sin(omega*t)*np.exp(-lambda_*t))\n",
    "    # support non ascii characters\n",
    "    plt.rc('font', family='Arial')\n",
    "    plt.title(\"sin(ω t) exp(-λ t) with ω={} and λ={}\" \\\n",
    "              \"\".format(omega, lambda_))\n",
    "    plt.ylim(-1.1, 1.1)\n",
    "    plt.xlabel(\"t\")\n",
    "    plt.ylabel(\"y\")\n",
    "\n",
    "    \n",
    "def square(x=1):\n",
    "    return x**2\n",
    "\n",
    "\n",
    "def do_you_get_it(got_it):\n",
    "    if got_it:\n",
    "        print(\"Gz you lil smart cookie!\")\n",
    "    else:\n",
    "        print(\"Comeon you can do it!\")\n",
    "        \n",
    "def print_hello_name(name):\n",
    "    print(\"Hello {}\".format(name))"
   ]
  },
  {
   "cell_type": "code",
   "execution_count": 3,
   "metadata": {},
   "outputs": [
    {
     "data": {
      "application/vnd.jupyter.widget-view+json": {
       "model_id": "e1aaaa2a835f465c80b8815b68d29544",
       "version_major": 2,
       "version_minor": 0
      },
      "text/plain": [
       "interactive(children=(FloatSlider(value=1.0, description='omega', max=10.0), FloatSlider(value=0.1, descriptio…"
      ]
     },
     "metadata": {},
     "output_type": "display_data"
    },
    {
     "data": {
      "text/plain": [
       "<function __main__.plot_sin(omega=1.0, lambda_=0.1)>"
      ]
     },
     "execution_count": 3,
     "metadata": {},
     "output_type": "execute_result"
    }
   ],
   "source": [
    "interact(plot_sin, omega=(0.0, 10.0, 0.1), \n",
    "         lambda_=(0.0, 0.5, 0.01))"
   ]
  },
  {
   "cell_type": "code",
   "execution_count": 4,
   "metadata": {},
   "outputs": [
    {
     "data": {
      "application/vnd.jupyter.widget-view+json": {
       "model_id": "15c1a1be39734aa99e534f6b77dcdfc7",
       "version_major": 2,
       "version_minor": 0
      },
      "text/plain": [
       "interactive(children=(IntSlider(value=1, description='x', min=1), Output()), _dom_classes=('widget-interact',)…"
      ]
     },
     "metadata": {},
     "output_type": "display_data"
    },
    {
     "data": {
      "text/plain": [
       "<function __main__.square(x=1)>"
      ]
     },
     "execution_count": 4,
     "metadata": {},
     "output_type": "execute_result"
    }
   ],
   "source": [
    "interact(square, x=(1,100))"
   ]
  },
  {
   "cell_type": "code",
   "execution_count": 5,
   "metadata": {},
   "outputs": [
    {
     "data": {
      "application/vnd.jupyter.widget-view+json": {
       "model_id": "36af7855f2924103b323442be39f11e2",
       "version_major": 2,
       "version_minor": 0
      },
      "text/plain": [
       "interactive(children=(Checkbox(value=False, description='got_it'), Output()), _dom_classes=('widget-interact',…"
      ]
     },
     "metadata": {},
     "output_type": "display_data"
    },
    {
     "data": {
      "text/plain": [
       "<function __main__.do_you_get_it(got_it)>"
      ]
     },
     "execution_count": 5,
     "metadata": {},
     "output_type": "execute_result"
    }
   ],
   "source": [
    "interact(do_you_get_it, got_it=False)"
   ]
  },
  {
   "cell_type": "code",
   "execution_count": 6,
   "metadata": {},
   "outputs": [
    {
     "data": {
      "application/vnd.jupyter.widget-view+json": {
       "model_id": "9d1177a085984f59813d2e174dc81795",
       "version_major": 2,
       "version_minor": 0
      },
      "text/plain": [
       "interactive(children=(Text(value='put your name', description='name'), Output()), _dom_classes=('widget-intera…"
      ]
     },
     "metadata": {},
     "output_type": "display_data"
    },
    {
     "data": {
      "text/plain": [
       "<function __main__.print_hello_name(name)>"
      ]
     },
     "execution_count": 6,
     "metadata": {},
     "output_type": "execute_result"
    }
   ],
   "source": [
    "interact(print_hello_name, name=\"put your name\")"
   ]
  },
  {
   "cell_type": "code",
   "execution_count": null,
   "metadata": {},
   "outputs": [],
   "source": []
  }
 ],
 "metadata": {
  "kernelspec": {
   "display_name": "Python 3",
   "language": "python",
   "name": "python3"
  },
  "language_info": {
   "codemirror_mode": {
    "name": "ipython",
    "version": 3
   },
   "file_extension": ".py",
   "mimetype": "text/x-python",
   "name": "python",
   "nbconvert_exporter": "python",
   "pygments_lexer": "ipython3",
   "version": "3.7.3"
  }
 },
 "nbformat": 4,
 "nbformat_minor": 4
}
