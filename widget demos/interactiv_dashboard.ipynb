{
 "cells": [
  {
   "cell_type": "code",
   "execution_count": 1,
   "metadata": {},
   "outputs": [],
   "source": [
    "%matplotlib notebook\n",
    "import matplotlib.pyplot as plt\n",
    "from IPython.display import display\n",
    "from ipywidgets import (VBox, HBox, Button, Dropdown, FloatRangeSlider, \n",
    "                        Label, Layout, FloatSlider, FloatText, jslink,\n",
    "                        Output)\n",
    "import numpy as np"
   ]
  },
  {
   "cell_type": "code",
   "execution_count": 2,
   "metadata": {},
   "outputs": [
    {
     "data": {
      "application/vnd.jupyter.widget-view+json": {
       "model_id": "cc31719063374d0eae0221d17b403f69",
       "version_major": 2,
       "version_minor": 0
      },
      "text/plain": [
       "VBox(children=(HBox(children=(Dropdown(description='Function:', options={'A sin(ω t + φ)': 0, 'A cos(ω t + φ)'…"
      ]
     },
     "metadata": {},
     "output_type": "display_data"
    }
   ],
   "source": [
    "def get_min_max_slider(name, default_val=1, min_init=-4, max_init=4, \n",
    "                       label_text=None, range_slider=False):\n",
    "    if not label_text:\n",
    "        label_text = name\n",
    "    min_val = FloatText(min_init, description=\"${}_{{min}}$\".format(name.strip(\"$\")))\n",
    "    max_val = FloatText(max_init, description=\"${}_{{max}}$\".format(name.strip(\"$\")))\n",
    "    if range_slider:\n",
    "        slider = FloatRangeSlider(min=min_init, max=max_init,\n",
    "                                  description=\"{}\".format(label_text),  \n",
    "                                  layout=Layout(width='500px'))\n",
    "    else:\n",
    "        slider = FloatSlider(value=default_val, min=min_val.value, max=max_val.value, \n",
    "                             description=\"{}\".format(label_text), layout=Layout(width='500px'))\n",
    "    jslink((slider, 'min'), (min_val, \"value\"))\n",
    "    jslink((slider, 'max'), (max_val, \"value\"))\n",
    "    return slider, HBox([slider, min_val, max_val])\n",
    "\n",
    "def get_data(func_set, t_min, t_max, A, omega, phi):\n",
    "    yvals = []\n",
    "    t = np.linspace(t_min, t_max, num=200)\n",
    "    if 0 in func_set:\n",
    "        yvals.append([t, A*np.sin(omega*t+phi)])\n",
    "    if 1 in func_set:\n",
    "        yvals.append([t, A*np.cos(omega*t+phi)])\n",
    "    if 2 in func_set:\n",
    "        yvals.append([t, A*np.tan(omega*t+phi)])\n",
    "    if 3 in func_set:\n",
    "        yvals.append([t, A*np.exp(omega*t+phi)])\n",
    "    return yvals\n",
    "\n",
    "\n",
    "def interactiv_plot():\n",
    "    func_set = set()\n",
    "    func_names = ['A sin(ω t + φ)', 'A cos(ω t + φ)', 'A tan(ω t + φ)', 'A exp(ω t + φ)']\n",
    "    options_dict = dict(map(lambda x: (x[1], x[0]), list(enumerate(func_names))))\n",
    "    function_name = Dropdown(options=options_dict, description='Function:')\n",
    "    add_btn = Button(icon='plus', button_style='success', tooltip=\"add function to be ploted\")\n",
    "    del_btn = Button(icon='minus', button_style='danger', tooltip=\"remove function to be ploted\")\n",
    "    \n",
    "    plotrange_t, plotrange_t_box = get_min_max_slider(\"t\", min_init=-2*np.pi, max_init=4*np.pi, \n",
    "                                                  label_text='Plotrange $t$', range_slider=True)\n",
    "    \n",
    "    plotrange_y, plotrange_y_box = get_min_max_slider(\"y\", min_init=-3, max_init=3, \n",
    "                                                  label_text='Plotrange $y$', range_slider=True)\n",
    "    a_slider, a_slider_box = get_min_max_slider(\"$A$\")\n",
    "    omega_slider, omega_slider_box = get_min_max_slider(\"$ω$\")\n",
    "    phi_slider, phi_slider_box = get_min_max_slider(\"$φ$\")\n",
    "    out = Output()\n",
    "    \n",
    "    def update_plot(val):\n",
    "        out.clear_output(wait=True)\n",
    "        t_min, t_max = plotrange_t.value\n",
    "        y_min, y_max = plotrange_y.value\n",
    "        A = a_slider.value\n",
    "        omega = omega_slider.value\n",
    "        phi = phi_slider.value\n",
    "        \n",
    "        data = get_data(func_set, t_min, t_max, A, omega, phi)\n",
    "        with out:\n",
    "            for func_data, func_index in zip(data, func_set):\n",
    "                plt.plot(*func_data, label=func_names[func_index])\n",
    "            plt.legend(loc='upper left')\n",
    "            plt.title(\"The chosen Parameters are:\\n\" \\\n",
    "                      \"A={}, ω={} and φ={}\" \\\n",
    "                      \"\".format(A, omega, phi))\n",
    "            axes = plt.gca()\n",
    "            axes.set_ylim([y_min, y_max])\n",
    "            axes.set_xlabel(\"t\")\n",
    "            axes.set_ylabel(\"y\")\n",
    "            plt.show()\n",
    "    \n",
    "    plotrange_t.observe(update_plot, names='value')\n",
    "    plotrange_y.observe(update_plot, names='value')\n",
    "    a_slider.observe(update_plot, names='value')\n",
    "    omega_slider.observe(update_plot, names='value')\n",
    "    phi_slider.observe(update_plot, names='value')\n",
    "        \n",
    "    def add_func(btn):\n",
    "        func_set.add(function_name.value)\n",
    "        with out:\n",
    "            update_plot(\"\")\n",
    "        \n",
    "    add_btn.on_click(add_func)\n",
    "    \n",
    "    def del_func(btn):\n",
    "        func_set.remove(function_name.value)\n",
    "        with out:\n",
    "            update_plot(\"\")\n",
    "        \n",
    "    del_btn.on_click(del_func)\n",
    "    \n",
    "    return VBox([HBox([function_name, add_btn, del_btn]),\n",
    "                 plotrange_t_box,\n",
    "                 plotrange_y_box,\n",
    "                 a_slider_box,\n",
    "                 omega_slider_box,\n",
    "                 phi_slider_box,\n",
    "                 out\n",
    "                ])\n",
    "interactiv_plot()"
   ]
  },
  {
   "cell_type": "code",
   "execution_count": null,
   "metadata": {},
   "outputs": [],
   "source": []
  },
  {
   "cell_type": "code",
   "execution_count": null,
   "metadata": {},
   "outputs": [],
   "source": []
  }
 ],
 "metadata": {
  "kernelspec": {
   "display_name": "Python 3",
   "language": "python",
   "name": "python3"
  },
  "language_info": {
   "codemirror_mode": {
    "name": "ipython",
    "version": 3
   },
   "file_extension": ".py",
   "mimetype": "text/x-python",
   "name": "python",
   "nbconvert_exporter": "python",
   "pygments_lexer": "ipython3",
   "version": "3.7.3"
  }
 },
 "nbformat": 4,
 "nbformat_minor": 4
}
